{
 "cells": [
  {
   "cell_type": "code",
   "execution_count": null,
   "metadata": {},
   "outputs": [],
   "source": [
    "# default_exp image"
   ]
  },
  {
   "cell_type": "markdown",
   "metadata": {},
   "source": [
    "# image\n",
    "\n",
    "> API details.\n",
    "\n",
    "1. resize\n",
    "2. rotate\n",
    "3. crop"
   ]
  },
  {
   "cell_type": "code",
   "execution_count": null,
   "metadata": {},
   "outputs": [],
   "source": [
    "#hide\n",
    "from nbdev.showdoc import *"
   ]
  },
  {
   "cell_type": "code",
   "execution_count": null,
   "metadata": {},
   "outputs": [],
   "source": [
    "#export\n",
    "import tensorflow as tf\n",
    "from typing import Union"
   ]
  },
  {
   "cell_type": "code",
   "execution_count": null,
   "metadata": {},
   "outputs": [],
   "source": [
    "#export\n",
    "\n",
    "def read_image(path: str, channels: int = 3):\n",
    "    \"\"\"Reads an image file from the path and return the rgb image in tf.Tensor format.\n",
    "    \"\"\"\n",
    "    img: tf.Tensor = tf.io.read_file(path)\n",
    "    img: tf.Tensor = tf.io.decode_image(img, channels=channels, expand_animations=False)\n",
    "    return img\n",
    "\n",
    "\n",
    "def resize_image(image: tf.Tensor, size: Union[tf.Tensor, tuple]):\n",
    "    \"\"\"Resize image to the target `size`: Union[tf.Tensor, tuple]\n",
    "    \"\"\"\n",
    "    assert isinstance(\n",
    "        image,\n",
    "        tf.Tensor), f\"image must be of type tf.Tensor but passed {type(image)}\"\n",
    "    assert isinstance(size, (tuple, tf.Tensor))\n",
    "    return tf.image.resize(image, size)"
   ]
  },
  {
   "cell_type": "code",
   "execution_count": null,
   "metadata": {},
   "outputs": [],
   "source": []
  },
  {
   "cell_type": "code",
   "execution_count": null,
   "metadata": {},
   "outputs": [],
   "source": []
  },
  {
   "cell_type": "code",
   "execution_count": null,
   "metadata": {},
   "outputs": [],
   "source": []
  }
 ],
 "metadata": {
  "kernelspec": {
   "display_name": "Python 3",
   "language": "python",
   "name": "python3"
  }
 },
 "nbformat": 4,
 "nbformat_minor": 4
}
