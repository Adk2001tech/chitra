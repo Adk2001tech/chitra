{
 "cells": [
  {
   "cell_type": "code",
   "execution_count": null,
   "id": "30596049-1933-41e9-b189-9ab00f918116",
   "metadata": {},
   "outputs": [],
   "source": [
    "from chitra.serve.cloud.aws_serverless import ChaliceServer"
   ]
  },
  {
   "cell_type": "code",
   "execution_count": null,
   "id": "67b705a4-6221-44b4-8638-c45a6c6281db",
   "metadata": {},
   "outputs": [],
   "source": [
    "def load_model(file):\n",
    "    return (lambda x: x + 1)"
   ]
  },
  {
   "cell_type": "code",
   "execution_count": null,
   "id": "5756afb5-963e-4f99-997b-263dd7795c8f",
   "metadata": {},
   "outputs": [],
   "source": [
    "# server = ChaliceServer('image-classification',\n",
    "#                        \"s3://anmfm\",\n",
    "#                        model_loader=load_model)"
   ]
  },
  {
   "cell_type": "code",
   "execution_count": null,
   "id": "c760e259-82e9-4bfc-a2d8-7e4b14684bc1",
   "metadata": {},
   "outputs": [],
   "source": [
    "from timm import create_model, list_models"
   ]
  },
  {
   "cell_type": "code",
   "execution_count": null,
   "id": "0cd48a18-b989-4699-a080-efd64f38b363",
   "metadata": {},
   "outputs": [],
   "source": [
    "from chitra.image import Chitra"
   ]
  },
  {
   "cell_type": "code",
   "execution_count": null,
   "id": "c4582b8f-82e3-4330-8f2d-30da85f9d5aa",
   "metadata": {},
   "outputs": [],
   "source": []
  },
  {
   "cell_type": "code",
   "execution_count": null,
   "id": "8d60fd6c-0322-4399-900a-9b244d26fec1",
   "metadata": {},
   "outputs": [],
   "source": []
  },
  {
   "cell_type": "code",
   "execution_count": null,
   "id": "c6feb93c-be27-403f-a1d4-4370ef0c7b58",
   "metadata": {},
   "outputs": [],
   "source": [
    "model = create_model('efficientnet_b0',\n",
    "                     pretrained=True,\n",
    "                     checkpoint_path='./efficientnet_b0_ra-3dd342df.pth')"
   ]
  },
  {
   "cell_type": "code",
   "execution_count": null,
   "id": "3ea121da-f2df-47c0-a09a-3d474752d321",
   "metadata": {},
   "outputs": [],
   "source": [
    "model"
   ]
  },
  {
   "cell_type": "code",
   "execution_count": null,
   "id": "1910c175-8fe1-4b97-868b-38bb927b58bc",
   "metadata": {},
   "outputs": [],
   "source": [
    "image = Chitra(\n",
    "    \"https://ichef.bbci.co.uk/news/976/cpsprodpb/67CF/production/_108857562_mediaitem108857561.jpg\"\n",
    ")"
   ]
  },
  {
   "cell_type": "code",
   "execution_count": null,
   "id": "7af8a45e-384c-4f61-9d91-589620a55966",
   "metadata": {},
   "outputs": [],
   "source": [
    "image.image = image.image.resize((256, 256))"
   ]
  },
  {
   "cell_type": "code",
   "execution_count": null,
   "id": "aedc7a9b-3b09-495d-b449-0fdc15204b94",
   "metadata": {},
   "outputs": [],
   "source": []
  }
 ],
 "metadata": {
  "kernelspec": {
   "display_name": "Python 3",
   "language": "python",
   "name": "python3"
  },
  "language_info": {
   "codemirror_mode": {
    "name": "ipython",
    "version": 3
   },
   "file_extension": ".py",
   "mimetype": "text/x-python",
   "name": "python",
   "nbconvert_exporter": "python",
   "pygments_lexer": "ipython3",
   "version": "3.7.10"
  }
 },
 "nbformat": 4,
 "nbformat_minor": 5
}
