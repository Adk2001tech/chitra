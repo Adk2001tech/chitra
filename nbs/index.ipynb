{
 "cells": [
  {
   "cell_type": "code",
   "execution_count": null,
   "metadata": {},
   "outputs": [],
   "source": [
    "#hide\n",
    "import sys\n",
    "sys.path.append('..')"
   ]
  },
  {
   "cell_type": "code",
   "execution_count": null,
   "metadata": {},
   "outputs": [],
   "source": [
    "#hide\n",
    "from chitra.core import *"
   ]
  },
  {
   "cell_type": "markdown",
   "metadata": {},
   "source": [
    "# Chitra\n",
    "\n",
    "> Library for creating data input pipeline in pure Tensorflow 2.x"
   ]
  },
  {
   "cell_type": "markdown",
   "metadata": {},
   "source": [
    ".\n",
    "<!-- This file will become your README and also the index of your documentation. -->"
   ]
  },
  {
   "cell_type": "markdown",
   "metadata": {},
   "source": [
    "## Install"
   ]
  },
  {
   "cell_type": "markdown",
   "metadata": {},
   "source": [
    "`pip install chitra`"
   ]
  },
  {
   "cell_type": "markdown",
   "metadata": {},
   "source": [
    "## How to use"
   ]
  },
  {
   "cell_type": "markdown",
   "metadata": {},
   "source": [
    "<!-- Fill me in please! Don't forget code examples: -->\n",
    "## Loading data for image classification"
   ]
  },
  {
   "cell_type": "code",
   "execution_count": null,
   "metadata": {},
   "outputs": [
    {
     "name": "stdout",
     "output_type": "stream",
     "text": [
      "class names: (b'whitecat', b'blackcat')\n",
      "image shape: (1, 160, 160, 3)\n",
      "class: b'whitecat'\n"
     ]
    }
   ],
   "source": [
    "from chitra.dataloader import Clf\n",
    "\n",
    "path = '/Users/aniketmaurya/Pictures/cats'\n",
    "\n",
    "clf_dl = Clf()\n",
    "data = clf_dl.from_folder(path)\n",
    "\n",
    "print('class names:', clf_dl.CLASS_NAMES)\n",
    "\n",
    "for e in data.take(1):\n",
    "    print('image shape:', e[0].shape)\n",
    "    print('class:', e[1].numpy())"
   ]
  },
  {
   "cell_type": "code",
   "execution_count": null,
   "metadata": {},
   "outputs": [],
   "source": []
  }
 ],
 "metadata": {
  "kernelspec": {
   "display_name": "Python 3",
   "language": "python",
   "name": "python3"
  }
 },
 "nbformat": 4,
 "nbformat_minor": 4
}
