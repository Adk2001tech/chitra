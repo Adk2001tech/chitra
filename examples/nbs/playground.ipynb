{
 "cells": [
  {
   "cell_type": "code",
   "execution_count": null,
   "id": "30596049-1933-41e9-b189-9ab00f918116",
   "metadata": {},
   "outputs": [],
   "source": [
    "import io\n",
    "\n",
    "import numpy as np\n",
    "import torch\n",
    "from chitra.core import load_imagenet_labels\n",
    "from chitra.serve.cloud.aws_serverless import ChaliceServer\n",
    "from smart_open import open as smart_open\n",
    "from timm import create_model, list_models"
   ]
  },
  {
   "cell_type": "code",
   "execution_count": null,
   "id": "67b705a4-6221-44b4-8638-c45a6c6281db",
   "metadata": {},
   "outputs": [],
   "source": [
    "def load_model(file):\n",
    "    return (lambda x: x + 1)"
   ]
  },
  {
   "cell_type": "code",
   "execution_count": null,
   "id": "ae2c7d06-e1ba-46e4-b666-568e92222b77",
   "metadata": {},
   "outputs": [],
   "source": [
    "import boto3\n",
    "\n",
    "s3 = boto3.client('s3')"
   ]
  },
  {
   "cell_type": "code",
   "execution_count": null,
   "id": "e4d05656-0721-4897-a517-e745588d0968",
   "metadata": {},
   "outputs": [],
   "source": [
    "response = s3.list_buckets()"
   ]
  },
  {
   "cell_type": "code",
   "execution_count": null,
   "id": "887d362e-38f6-4986-a30b-a5a275bae802",
   "metadata": {},
   "outputs": [],
   "source": [
    "# Output the bucket names\n",
    "print('Existing buckets:')\n",
    "for bucket in response['Buckets']:\n",
    "    print(f'  {bucket[\"Name\"]}')"
   ]
  },
  {
   "cell_type": "code",
   "execution_count": null,
   "id": "d7dec4c1-7b3b-460a-bf01-ca553d6ba72d",
   "metadata": {},
   "outputs": [],
   "source": [
    "file = s3.download_file('gflow-models', 'efficientnet_b0.pth', 'model.pth')"
   ]
  },
  {
   "cell_type": "code",
   "execution_count": null,
   "id": "514769e7-8917-4909-957e-7ee7019d76be",
   "metadata": {},
   "outputs": [],
   "source": []
  },
  {
   "cell_type": "code",
   "execution_count": null,
   "id": "4e088dc0-49a2-4081-91a2-6d41b45ed7b2",
   "metadata": {},
   "outputs": [],
   "source": [
    "BUCKET = 'gflow-models'\n",
    "FILE_OBJ = 'efficientnet_b0.pth'\n",
    "MODEL_PATH = \"s3://gflow-models/efficientnet_b0.pth\""
   ]
  },
  {
   "cell_type": "code",
   "execution_count": null,
   "id": "a0505a45-0267-4264-9297-bc19812ef535",
   "metadata": {},
   "outputs": [],
   "source": [
    "s3 = boto3.resource('s3')\n",
    "bucket = s3.Bucket(BUCKET)\n",
    "file_object = bucket.Object(FILE_OBJ)"
   ]
  },
  {
   "cell_type": "code",
   "execution_count": null,
   "id": "38fe81de-b312-4c52-b08c-2e1ac34b27be",
   "metadata": {},
   "outputs": [],
   "source": [
    "buffer = io.BytesIO()\n",
    "file_object.download_fileobj(buffer)"
   ]
  },
  {
   "cell_type": "code",
   "execution_count": null,
   "id": "7da088ff-7f63-4382-9efa-7952619908b8",
   "metadata": {},
   "outputs": [],
   "source": [
    "model = create_model('efficientnet_b0', pretrained=False)\n",
    "\n",
    "with smart_open(MODEL_PATH, 'rb') as f:\n",
    "    buffer = io.BytesIO(f.read())\n",
    "    model = model.load_state_dict(torch.load(buffer))"
   ]
  },
  {
   "cell_type": "code",
   "execution_count": null,
   "id": "5756afb5-963e-4f99-997b-263dd7795c8f",
   "metadata": {},
   "outputs": [],
   "source": [
    "# server = ChaliceServer('image-classification',\n",
    "#                        \"s3://gflow-models/efficientnet_b0.pth\",\n",
    "#                        model_loader=load_model)"
   ]
  },
  {
   "cell_type": "code",
   "execution_count": null,
   "id": "c760e259-82e9-4bfc-a2d8-7e4b14684bc1",
   "metadata": {},
   "outputs": [],
   "source": []
  },
  {
   "cell_type": "code",
   "execution_count": null,
   "id": "0cd48a18-b989-4699-a080-efd64f38b363",
   "metadata": {},
   "outputs": [],
   "source": [
    "from chitra.image import Chitra"
   ]
  },
  {
   "cell_type": "code",
   "execution_count": null,
   "id": "f5a448e6-5ce4-45ad-a0bc-a87878900cb5",
   "metadata": {},
   "outputs": [],
   "source": [
    "LABELS = load_imagenet_labels()"
   ]
  },
  {
   "cell_type": "code",
   "execution_count": null,
   "id": "c6feb93c-be27-403f-a1d4-4370ef0c7b58",
   "metadata": {},
   "outputs": [],
   "source": [
    "model = create_model(\n",
    "    'efficientnet_b0',\n",
    "    pretrained=True,\n",
    "    checkpoint_path='./efficientnet_b0_ra-3dd342df.pth').eval()"
   ]
  },
  {
   "cell_type": "code",
   "execution_count": null,
   "id": "3ea121da-f2df-47c0-a09a-3d474752d321",
   "metadata": {},
   "outputs": [],
   "source": []
  },
  {
   "cell_type": "code",
   "execution_count": null,
   "id": "1910c175-8fe1-4b97-868b-38bb927b58bc",
   "metadata": {},
   "outputs": [],
   "source": [
    "image = Chitra(\n",
    "    \"https://ichef.bbci.co.uk/news/976/cpsprodpb/67CF/production/_108857562_mediaitem108857561.jpg\"\n",
    ")\n",
    "image.resize((256, 256))"
   ]
  },
  {
   "cell_type": "code",
   "execution_count": null,
   "id": "77eba50d-bb2a-47a1-96a9-4cbefd998b45",
   "metadata": {},
   "outputs": [],
   "source": [
    "x = image.numpy().astype(np.float32)\n",
    "x = x / 255.\n",
    "x = torch.from_numpy(x)\n",
    "\n",
    "LABELS[model(x.permute(2, 0, 1).unsqueeze(0)).argmax(1)]"
   ]
  },
  {
   "cell_type": "code",
   "execution_count": null,
   "id": "dcbb7d46-0c4f-4ada-9a80-65e3939950a8",
   "metadata": {},
   "outputs": [],
   "source": []
  },
  {
   "cell_type": "code",
   "execution_count": null,
   "id": "a8c3ada9-5e5a-4936-9407-5b7a88947ff8",
   "metadata": {},
   "outputs": [],
   "source": []
  },
  {
   "cell_type": "code",
   "execution_count": null,
   "id": "6eee0989-da5a-448f-a6bd-5a325adde7fc",
   "metadata": {},
   "outputs": [],
   "source": []
  },
  {
   "cell_type": "code",
   "execution_count": null,
   "id": "d044465c-f308-49b1-b827-33337b111182",
   "metadata": {},
   "outputs": [],
   "source": []
  }
 ],
 "metadata": {
  "kernelspec": {
   "display_name": "Python 3",
   "language": "python",
   "name": "python3"
  },
  "language_info": {
   "codemirror_mode": {
    "name": "ipython",
    "version": 3
   },
   "file_extension": ".py",
   "mimetype": "text/x-python",
   "name": "python",
   "nbconvert_exporter": "python",
   "pygments_lexer": "ipython3",
   "version": "3.7.10"
  }
 },
 "nbformat": 4,
 "nbformat_minor": 5
}
