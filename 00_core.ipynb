{
 "cells": [
  {
   "cell_type": "code",
   "execution_count": null,
   "metadata": {},
   "outputs": [],
   "source": [
    "# default_exp core"
   ]
  },
  {
   "cell_type": "markdown",
   "metadata": {},
   "source": [
    "# module name here\n",
    "\n",
    "> API details."
   ]
  },
  {
   "cell_type": "code",
   "execution_count": null,
   "metadata": {},
   "outputs": [],
   "source": [
    "#hide\n",
    "from nbdev.showdoc import *"
   ]
  },
  {
   "cell_type": "code",
   "execution_count": null,
   "metadata": {},
   "outputs": [],
   "source": [
    "#export\n",
    "import tensorflow as tf\n",
    "import numpy as np\n",
    "\n",
    "from typing import Union"
   ]
  },
  {
   "cell_type": "markdown",
   "metadata": {},
   "source": [
    "# Load dataset"
   ]
  },
  {
   "cell_type": "code",
   "execution_count": null,
   "metadata": {},
   "outputs": [],
   "source": [
    "#hide\n",
    "path = '/Users/aniketmaurya/Pictures/cats/blackcats/bat10.png'"
   ]
  },
  {
   "cell_type": "code",
   "execution_count": null,
   "metadata": {},
   "outputs": [],
   "source": [
    "#export\n",
    "\n",
    "\n",
    "def resize_image(image: tf.Tensor, size: Union[tf.Tensor, tuple]):\n",
    "     return tf.image.resize(image, size)\n",
    "\n"
   ]
  },
  {
   "cell_type": "code",
   "execution_count": null,
   "metadata": {},
   "outputs": [
    {
     "data": {
      "text/plain": [
       "TensorShape([160, 160, 3])"
      ]
     },
     "execution_count": null,
     "metadata": {},
     "output_type": "execute_result"
    }
   ],
   "source": [
    "#hide\n",
    "img = read_image(path)\n",
    "img = resize_image(img, (160, 160))\n",
    "img.shape"
   ]
  },
  {
   "cell_type": "code",
   "execution_count": null,
   "metadata": {},
   "outputs": [],
   "source": [
    "# img"
   ]
  },
  {
   "cell_type": "code",
   "execution_count": null,
   "metadata": {},
   "outputs": [
    {
     "data": {
      "text/plain": [
       "<tf.Tensor: id=53, shape=(160, 160, 3), dtype=float32, numpy=\n",
       "array([[[ 24.439453 ,  15.5859375,  18.707031 ],\n",
       "        [ 27.054688 ,  18.121094 ,  21.125    ],\n",
       "        [ 76.89258  ,  67.43164  ,  74.0918   ],\n",
       "        ...,\n",
       "        [ 23.853516 ,  14.853516 ,  18.853516 ],\n",
       "        [ 24.       ,  15.       ,  19.       ],\n",
       "        [ 21.626953 ,  12.626953 ,  16.626953 ]],\n",
       "\n",
       "       [[ 25.625    ,  18.25     ,  22.25     ],\n",
       "        [ 25.988281 ,  17.851562 ,  21.476562 ],\n",
       "        [ 71.228516 ,  63.148438 ,  61.210938 ],\n",
       "        ...,\n",
       "        [ 21.       ,  12.       ,  16.       ],\n",
       "        [ 24.       ,  15.       ,  19.       ],\n",
       "        [ 21.       ,  12.       ,  16.       ]],\n",
       "\n",
       "       [[ 25.375    ,  17.75     ,  21.75     ],\n",
       "        [ 29.335938 ,  20.960938 ,  23.878906 ],\n",
       "        [ 33.01367  ,  23.763672 ,  26.072266 ],\n",
       "        ...,\n",
       "        [ 21.       ,  12.       ,  16.       ],\n",
       "        [ 22.4375   ,  13.125    ,  17.4375   ],\n",
       "        [ 23.853516 ,  14.853516 ,  18.853516 ]],\n",
       "\n",
       "       ...,\n",
       "\n",
       "       [[ 87.09766  ,  84.09766  ,  83.09766  ],\n",
       "        [ 88.70703  ,  85.70703  ,  84.70703  ],\n",
       "        [ 91.14844  ,  87.61133  ,  86.07422  ],\n",
       "        ...,\n",
       "        [ 84.61914  ,  81.83789  ,  81.64844  ],\n",
       "        [ 82.66797  ,  79.833984 ,  79.833984 ],\n",
       "        [ 94.5625   ,  89.46875  ,  87.78125  ]],\n",
       "\n",
       "       [[ 89.       ,  86.       ,  85.       ],\n",
       "        [ 86.23828  ,  83.61914  ,  82.61914  ],\n",
       "        [ 87.35547  ,  84.35547  ,  83.35547  ],\n",
       "        ...,\n",
       "        [ 81.       ,  79.       ,  79.       ],\n",
       "        [ 82.13672  ,  79.56836  ,  79.56836  ],\n",
       "        [ 96.14453  ,  89.94336  ,  88.572266 ]],\n",
       "\n",
       "       [[ 87.       ,  84.       ,  83.       ],\n",
       "        [ 87.       ,  84.       ,  83.       ],\n",
       "        [ 87.125    ,  84.125    ,  83.125    ],\n",
       "        ...,\n",
       "        [ 82.46484  ,  79.73242  ,  79.73242  ],\n",
       "        [ 87.8125   ,  84.8457   ,  83.8457   ],\n",
       "        [103.       ,  92.       ,  92.       ]]], dtype=float32)>"
      ]
     },
     "execution_count": null,
     "metadata": {},
     "output_type": "execute_result"
    }
   ],
   "source": [
    "tf.image.resize(img, (160, 160))"
   ]
  },
  {
   "cell_type": "code",
   "execution_count": null,
   "metadata": {},
   "outputs": [],
   "source": [
    "img = tf.io.read_file('/Users/aniketmaurya/Pictures/cats/blackcats/bat10.png')\n",
    "img = tf.io.decode_jpeg(img, channels=3)"
   ]
  },
  {
   "cell_type": "code",
   "execution_count": null,
   "metadata": {},
   "outputs": [],
   "source": [
    "# Image.fromarray(img.numpy())"
   ]
  },
  {
   "cell_type": "code",
   "execution_count": null,
   "metadata": {},
   "outputs": [],
   "source": []
  },
  {
   "cell_type": "code",
   "execution_count": null,
   "metadata": {},
   "outputs": [],
   "source": []
  },
  {
   "cell_type": "code",
   "execution_count": null,
   "metadata": {},
   "outputs": [],
   "source": []
  },
  {
   "cell_type": "code",
   "execution_count": null,
   "metadata": {},
   "outputs": [],
   "source": []
  },
  {
   "cell_type": "code",
   "execution_count": null,
   "metadata": {},
   "outputs": [],
   "source": []
  },
  {
   "cell_type": "code",
   "execution_count": null,
   "metadata": {},
   "outputs": [],
   "source": []
  },
  {
   "cell_type": "code",
   "execution_count": null,
   "metadata": {},
   "outputs": [],
   "source": []
  },
  {
   "cell_type": "code",
   "execution_count": null,
   "metadata": {},
   "outputs": [],
   "source": []
  },
  {
   "cell_type": "code",
   "execution_count": null,
   "metadata": {},
   "outputs": [],
   "source": []
  }
 ],
 "metadata": {
  "kernelspec": {
   "display_name": "Python 3",
   "language": "python",
   "name": "python3"
  }
 },
 "nbformat": 4,
 "nbformat_minor": 4
}
