{
 "cells": [
  {
   "cell_type": "code",
   "execution_count": null,
   "metadata": {},
   "outputs": [],
   "source": [
    "#hide\n",
    "from chitra.core import *"
   ]
  },
  {
   "cell_type": "markdown",
   "metadata": {},
   "source": [
    "# Chitra\n",
    "\n",
    "> Library for creating data input pipeline in Tensorflow"
   ]
  },
  {
   "cell_type": "markdown",
   "metadata": {},
   "source": [
    "#hide\n",
    "<!-- This file will become your README and also the index of your documentation. -->"
   ]
  },
  {
   "cell_type": "markdown",
   "metadata": {},
   "source": [
    "## Install"
   ]
  },
  {
   "cell_type": "markdown",
   "metadata": {},
   "source": [
    "`pip install chitra`"
   ]
  },
  {
   "cell_type": "markdown",
   "metadata": {},
   "source": [
    "## How to use"
   ]
  },
  {
   "cell_type": "markdown",
   "metadata": {},
   "source": [
    "<!-- Fill me in please! Don't forget code examples: -->\n",
    "## Loading data for image classification"
   ]
  },
  {
   "cell_type": "code",
   "execution_count": null,
   "metadata": {},
   "outputs": [
    {
     "name": "stdout",
     "output_type": "stream",
     "text": [
      "CLASSES ENCODED: {'cat': 0, 'dog': 1}\n"
     ]
    }
   ],
   "source": [
    "import tensorflow as tf\n",
    "import chitra\n",
    "from chitra.dataloader import Clf, show_batch\n",
    "\n",
    "path = '/Users/aniketmaurya/Pictures/data/train'\n",
    "\n",
    "clf_dl = Clf()\n",
    "data = clf_dl.from_folder(path, target_shape=(224, 224))\n",
    "\n",
    "clf_dl.show_batch(8, figsize=(8,8))"
   ]
  },
  {
   "cell_type": "code",
   "execution_count": null,
   "metadata": {},
   "outputs": [],
   "source": []
  }
 ],
 "metadata": {
  "kernelspec": {
   "display_name": "Python 3",
   "language": "python",
   "name": "python3"
  }
 },
 "nbformat": 4,
 "nbformat_minor": 4
}
